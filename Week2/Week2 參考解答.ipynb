{
 "cells": [
  {
   "cell_type": "markdown",
   "metadata": {},
   "source": [
    "![](http://www.tshs.tp.edu.tw/images/bg/logo.jpg) \n",
    "\n",
    "## 多元選修課程：Python與人工智慧程式設計\n",
    "\n",
    "# 【第二週】使用Python來當計算機 - 變數與數學運算參考解答"
   ]
  },
  {
   "cell_type": "markdown",
   "metadata": {},
   "source": [
    "### 【挑戰】指數的計算：計算每立方公分汙染物的顆數\n",
    "\n",
    "控制汙染已經成為全球共同面對的課題，科學家用電腦分析歷年的細懸浮微粒中汙染物質的資料，針對某個城市建立了一個汙染物質數量的模型：已知 1980 年時細懸浮微粒中汙染物質為 14000 (顆／立方公分)，1980 年後經過 t 年每立方公分汙染物的顆數為 P，其中\n",
    "\n",
    "$\\Large P＝1000t^{\\frac{5}{4}} ＋14000$\n",
    "\n",
    "利用這個模型來計算 6 年後每立方公分汙染物的顆數為多少？\n",
    "\n",
    "請使用Python來計算出P值。\n",
    "\n",
    "_[題目來源] 南一高中數學_"
   ]
  },
  {
   "cell_type": "code",
   "execution_count": 1,
   "metadata": {},
   "outputs": [
    {
     "data": {
      "text/plain": [
       "23390.507480439723"
      ]
     },
     "execution_count": 1,
     "metadata": {},
     "output_type": "execute_result"
    }
   ],
   "source": [
    "# 請在下一行開始輸入你的程式碼\n",
    "P = 1000 * (6 ** 1.25) + 14000\n",
    "P"
   ]
  },
  {
   "cell_type": "markdown",
   "metadata": {},
   "source": [
    "### 【挑戰】用Python及海龍公式(Heron's formula)計算三角形面積\n",
    "\n",
    "海龍公式是亞歷山大港的海龍發現的，並可在其於公元60年的著作《Metrica》中找到其證明，但也有一說該公式的發現時期很有可能先於海龍的著作。\n",
    "\n",
    "海龍公式利用三角形的三條邊長來求取三角形面積。假設三角形的三個邊長各為$a, b, c$。\n",
    "\n",
    "三角形的半周長(semiperimeter)\n",
    "\n",
    "$s = \\Large\\frac{a+b+c}{2}$\n",
    "\n",
    "三角形的面積\n",
    "\n",
    "$A=\\sqrt{s(s-a)(s-b)(s-c)}$\n",
    "\n",
    "請利用海龍公式及Python，計算出邊長為4, 13, 15的三角形面積。\n",
    "\n",
    "_[資料來源] 維基百科_"
   ]
  },
  {
   "cell_type": "code",
   "execution_count": 1,
   "metadata": {},
   "outputs": [
    {
     "data": {
      "text/plain": [
       "24.0"
      ]
     },
     "execution_count": 1,
     "metadata": {},
     "output_type": "execute_result"
    }
   ],
   "source": [
    "# 請在下一行開始輸入你的程式碼\n",
    "import math\n",
    "\n",
    "a, b, c = 4, 13, 15\n",
    "s = (a + b + c) / 2\n",
    "A = math.sqrt(s * (s - a) * (s - b) * (s - c))\n",
    "\n",
    "A"
   ]
  },
  {
   "cell_type": "markdown",
   "metadata": {},
   "source": [
    "### 【挑戰】對數的計算：臺北市市民步行速度\n",
    "\n",
    "有個社會學的研究發現：生活在總人口為 p (千人) 的城市中的人，其步行速度 v (公尺／秒)，可以近似於以下的關係式：\n",
    "\n",
    "$v＝0.26 \\times \\log p＋0.02$\n",
    "\n",
    "請根據這個關係式回答以下問題：\n",
    "臺北市的人口約 267 萬人，試問臺北市市民步行速度約是多少公尺／秒？(顯示位數到小數點後第二位) \n",
    "\n",
    "請使用Python來計算出v值。\n",
    "\n",
    "提示：\n",
    "- 要顯示位數到小數點後第二位，使用 `print()` 的格式化輸出，範例語法如下，表示輸出的格式為2位小數的浮點數。\n",
    "\n",
    "```python\n",
    "print('{:,.2f}'.format(x))\n",
    "```\n",
    "\n",
    "_[題目來源] 南一高中數學_"
   ]
  },
  {
   "cell_type": "code",
   "execution_count": 3,
   "metadata": {},
   "outputs": [
    {
     "name": "stdout",
     "output_type": "stream",
     "text": [
      "0.91\n"
     ]
    }
   ],
   "source": [
    "# 請在下一行開始輸入你的程式碼\n",
    "import math\n",
    "\n",
    "v = 0.26 * math.log10(2670) + 0.02\n",
    "print('{:,.2f}'.format(v))"
   ]
  },
  {
   "cell_type": "markdown",
   "metadata": {},
   "source": [
    "### 【挑戰】已知數線上兩點位置和各點距離總和，計算出第三點的位置\n",
    "\n",
    "請使用Python程式解一元一次方程式的方式，計算出$x$的值\n",
    "\n",
    "![](https://drive.google.com/uc?export=view&id=1pZBDPIETX3mvnpNr-ACzhP1gxeZIg3bZ)\n",
    "\n",
    "將三個點放在數線上，而且三個點都沿著數線移動，在某個時刻三個點的位置分別在 A (－3)，B (2)，C (x)，且三個點彼此的距離和為 14!\n",
    "\n",
    "試問 x 的值是多少？\n",
    "\n",
    "提示：\n",
    "- 使用 `Sympy` 套件，這題的公式中僅需要一個 symbol。\n",
    "- $\\overline{AB}+\\overline{AC}+\\overline{BC}=14$\n",
    "\n",
    "_[題目來源] 南一高中數學_"
   ]
  },
  {
   "cell_type": "code",
   "execution_count": 4,
   "metadata": {},
   "outputs": [
    {
     "name": "stdout",
     "output_type": "stream",
     "text": [
      "[4]\n",
      "[-5]\n",
      "[]\n"
     ]
    }
   ],
   "source": [
    "# 請在下一行開始輸入你的程式碼\n",
    "from sympy import symbols, solve\n",
    "\n",
    "x = symbols('x')\n",
    "\n",
    "# 當 x >= 2\n",
    "eq1 = x - 2 + x + 3 + 5 - 14\n",
    "print(solve(eq1, x))\n",
    "\n",
    "# 當 x < -3\n",
    "eq2 = 2 - x - x - 3 + 5 - 14\n",
    "print(solve(eq2, x))\n",
    "\n",
    "# 當 -3 <= x <= 2\n",
    "eq3 = 2 - x + x + 3\n",
    "print(solve(eq3, x))"
   ]
  },
  {
   "cell_type": "code",
   "execution_count": null,
   "metadata": {},
   "outputs": [],
   "source": []
  }
 ],
 "metadata": {
  "kernelspec": {
   "display_name": "Python 3",
   "language": "python",
   "name": "python3"
  },
  "language_info": {
   "codemirror_mode": {
    "name": "ipython",
    "version": 3
   },
   "file_extension": ".py",
   "mimetype": "text/x-python",
   "name": "python",
   "nbconvert_exporter": "python",
   "pygments_lexer": "ipython3",
   "version": "3.7.4"
  }
 },
 "nbformat": 4,
 "nbformat_minor": 4
}
