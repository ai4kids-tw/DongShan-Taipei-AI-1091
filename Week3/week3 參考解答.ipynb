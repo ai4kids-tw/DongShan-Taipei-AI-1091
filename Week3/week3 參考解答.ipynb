{
 "cells": [
  {
   "cell_type": "markdown",
   "metadata": {},
   "source": [
    "![](http://www.tshs.tp.edu.tw/images/bg/logo.jpg) \n",
    "\n",
    "## 多元選修課程：Python與人工智慧程式設計\n",
    "\n",
    "# 【第三週】參考解答"
   ]
  },
  {
   "cell_type": "markdown",
   "metadata": {},
   "source": [
    "### 【挑戰】身高體重指數 (Body Mass Index; BMI) 計算機\n",
    "\n",
    "身高體重指數 (Body Mass Index; BMI) 是我們常用來衡量健康的指標之一，例如肥胖是否為某一種疾病的致病原因。請用 Python 函式撰寫 BMI 計算公式，並呼叫函式計算 BMI 值。\n",
    "\n",
    "BMI 計算公式：\n",
    "\n",
    "$$BMI=\\frac{體重}{身高^2}$$\n",
    "\n",
    "其中體重的單位為公斤，身高的單位為公尺。\n",
    "\n",
    "試問：詹皇的身高是 206 公分，體重為 113 公斤，請問詹皇的 BMI 值為多少？"
   ]
  },
  {
   "cell_type": "code",
   "execution_count": 4,
   "metadata": {},
   "outputs": [
    {
     "name": "stdout",
     "output_type": "stream",
     "text": [
      "詹皇的 BMI 為  26.628334433028563\n"
     ]
    }
   ],
   "source": [
    "# 請在下一行開始輸入你的程式碼\n",
    "def BMI(weight, height):\n",
    "    return weight / height ** 2\n",
    "\n",
    "print(\"詹皇的 BMI 為 \", BMI(113, 2.06))"
   ]
  },
  {
   "cell_type": "markdown",
   "metadata": {},
   "source": [
    "### 【挑戰】把自己的程式改寫成函式\n",
    "\n",
    "計算每立方公分汙染物的顆數\n",
    "\n",
    "控制汙染已經成為全球共同面對的課題，科學家用電腦分析歷年的細懸浮微粒中汙染物質的資料，針對某個城市建立了一個汙染物質數量的模型：已知 1980 年時細懸浮微粒中汙染物質為 14000 (顆／立方公分)，1980 年後經過 t 年每立方公分汙染物的顆數為 P，其中\n",
    "\n",
    "$\\Large P＝1000t^{1.25} ＋14000$\n",
    "\n",
    "利用這個模型來計算2000年、2010年、2020年時每立方公分汙染物的顆數各為多少？\n",
    "\n",
    "需求：\n",
    "1. 請把自己在上週「計算每立方公分汙染物的顆數」的程式改寫為Python函式\n",
    "2. 請在函式的定義中，將 `t` 設計為函式的參數\n",
    "3. 呼叫此函式，計算2000年、2010年、2020年時每立方公分汙染物的顆數各為多少\n",
    "4. 將計算出來的顆粒數做為回傳值\n",
    "5. 在螢幕上印出2000年、2010年、2020年時每立方公分汙染物的顆數\n",
    "\n",
    "_[註] 題目來源：南一高中數學_"
   ]
  },
  {
   "cell_type": "code",
   "execution_count": 4,
   "metadata": {},
   "outputs": [
    {
     "name": "stdout",
     "output_type": "stream",
     "text": [
      "2000年時每立方公分汙染物的顆數: 56294.850537622566\n",
      "2010年時每立方公分汙染物的顆數: 84210.41957962148\n",
      "2020年時每立方公分汙染物的顆數: 114594.67437463484\n"
     ]
    }
   ],
   "source": [
    "# 請在下一行開始輸入你的程式碼\n",
    "def pollutants(t):\n",
    "    P = 1000 * (t ** 1.25) + 14000\n",
    "    \n",
    "    return P\n",
    "\n",
    "print(\"2000年時每立方公分汙染物的顆數:\", pollutants(20))\n",
    "print(\"2010年時每立方公分汙染物的顆數:\", pollutants(30))\n",
    "print(\"2020年時每立方公分汙染物的顆數:\", pollutants(40))"
   ]
  },
  {
   "cell_type": "markdown",
   "metadata": {},
   "source": [
    "### 【挑戰】輸入年份做為呼叫函式的參數\n",
    "\n",
    "計算每立方公分汙染物的顆數\n",
    "\n",
    "控制汙染已經成為全球共同面對的課題，科學家用電腦分析歷年的細懸浮微粒中汙染物質的資料，針對某個城市建立了一個汙染物質數量的模型：已知 1980 年時細懸浮微粒中汙染物質為 14000 (顆／立方公分)，1980 年後經過 t 年每立方公分汙染物的顆數為 P，其中\n",
    "\n",
    "$\\Large P＝1000t^{1.25} ＋14000$\n",
    "\n",
    "利用這個模型來計算2000年、2010年、2020年時每立方公分汙染物的顆數各為多少？\n",
    "\n",
    "需求：\n",
    "1. 將上題函式中的參數，改為年份\n",
    "2. 利用原公式算出該年份的汙染物顆數"
   ]
  },
  {
   "cell_type": "code",
   "execution_count": 1,
   "metadata": {},
   "outputs": [
    {
     "name": "stdout",
     "output_type": "stream",
     "text": [
      "2000年時每立方公分產生 56294.85 顆數的汙染物\n",
      "2010年時每立方公分產生 84210.42 顆數的汙染物\n",
      "2020年時每立方公分產生 114,594.67 顆數的汙染物\n"
     ]
    }
   ],
   "source": [
    "def cal_pollutants(year):\n",
    "    t = year - 1980\n",
    "    P = 1000 * (t ** 1.25) + 14000\n",
    "    \n",
    "    return round(P, 2)\n",
    "\n",
    "year = 2000\n",
    "pollutants = cal_pollutants(year)\n",
    "# 用字串格式化輸出的方式印出結果\n",
    "print(\"%s年時每立方公分產生 %s 顆數的汙染物\" % (year, pollutants))\n",
    "\n",
    "year = 2010\n",
    "pollutants = cal_pollutants(year)\n",
    "# 用字串插值的方式，合併結果印出\n",
    "print(f\"{year}年時每立方公分產生\", pollutants, \"顆數的汙染物\")\n",
    "\n",
    "year = 2020\n",
    "pollutants = cal_pollutants(year)\n",
    "# 用字串格式化輸出的方式印出結果\n",
    "print(\"{}年時每立方公分產生 {:,.2f} 顆數的汙染物\".format(year, pollutants))"
   ]
  },
  {
   "cell_type": "markdown",
   "metadata": {},
   "source": [
    "### 【挑戰】把自己的程式改寫成函式\n",
    "\n",
    "用Python及海龍公式(Heron's formula)計算三角形面積\n",
    "\n",
    "海龍公式是亞歷山大港的海龍發現的，並可在其於公元60年的著作《Metrica》中找到其證明，但也有一說該公式的發現時期很有可能先於海龍的著作。\n",
    "\n",
    "海龍公式利用三角形的三條邊長來求取三角形面積。假設三角形的三個邊長各為$a, b, c$。\n",
    "\n",
    "三角形的半周長(semiperimeter)\n",
    "\n",
    "$s = \\Large\\frac{a+b+c}{2}$\n",
    "\n",
    "三角形的面積\n",
    "\n",
    "$A=\\sqrt{s(s-a)(s-b)(s-c)}$\n",
    "\n",
    "請利用海龍公式及Python，計算出邊長為4, 13, 15的三角形面積。\n",
    "\n",
    "_[資料來源] 維基百科_"
   ]
  },
  {
   "cell_type": "code",
   "execution_count": 43,
   "metadata": {},
   "outputs": [
    {
     "data": {
      "text/plain": [
       "24.0"
      ]
     },
     "execution_count": 43,
     "metadata": {},
     "output_type": "execute_result"
    }
   ],
   "source": [
    "# 請在下一行開始輸入你的程式碼\n",
    "import math\n",
    "\n",
    "def cal_tri_area(a, b, c):\n",
    "    s = (a + b + c) / 2\n",
    "    A = math.sqrt(s * (s - a) * (s - b) * (s - c))\n",
    "    \n",
    "    return A\n",
    "\n",
    "cal_tri_area(a=4, c=15, b=13)"
   ]
  },
  {
   "cell_type": "markdown",
   "metadata": {},
   "source": [
    "### 【快問快答時間】範圍(Scope)問題：請問執行下列程式碼後，輸出的結果為何？\n",
    "\n",
    "```python\n",
    "x = 100\n",
    "\n",
    "def foo():\n",
    "    x = 200\n",
    "    \n",
    "foo()\n",
    "print(x)\n",
    "```"
   ]
  },
  {
   "cell_type": "code",
   "execution_count": 5,
   "metadata": {},
   "outputs": [
    {
     "name": "stdout",
     "output_type": "stream",
     "text": [
      "100\n"
     ]
    }
   ],
   "source": [
    "x = 100\n",
    "\n",
    "def foo():\n",
    "    x = 200\n",
    "\n",
    "foo()\n",
    "print(x)"
   ]
  },
  {
   "cell_type": "markdown",
   "metadata": {},
   "source": [
    "### 【快問快答時間】範圍(Scope)問題：請問執行下列程式碼後，輸出的結果為何？\n",
    "\n",
    "```python\n",
    "x = 100\n",
    "\n",
    "def foo():\n",
    "    x = 200\n",
    "    print(x)\n",
    "\n",
    "print(foo())\n",
    "print(x)\n",
    "```"
   ]
  },
  {
   "cell_type": "code",
   "execution_count": 10,
   "metadata": {},
   "outputs": [
    {
     "name": "stdout",
     "output_type": "stream",
     "text": [
      "200\n",
      "None\n",
      "100\n"
     ]
    }
   ],
   "source": [
    "x = 100\n",
    "\n",
    "def foo():\n",
    "    x = 200\n",
    "    print(x)\n",
    "\n",
    "print(foo())\n",
    "print(x)"
   ]
  },
  {
   "cell_type": "code",
   "execution_count": null,
   "metadata": {},
   "outputs": [],
   "source": []
  }
 ],
 "metadata": {
  "kernelspec": {
   "display_name": "Python 3",
   "language": "python",
   "name": "python3"
  },
  "language_info": {
   "codemirror_mode": {
    "name": "ipython",
    "version": 3
   },
   "file_extension": ".py",
   "mimetype": "text/x-python",
   "name": "python",
   "nbconvert_exporter": "python",
   "pygments_lexer": "ipython3",
   "version": "3.7.4"
  }
 },
 "nbformat": 4,
 "nbformat_minor": 4
}
