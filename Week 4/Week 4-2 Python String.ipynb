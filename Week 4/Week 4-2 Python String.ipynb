{
 "cells": [
  {
   "cell_type": "markdown",
   "metadata": {},
   "source": [
    "![](http://www.tshs.tp.edu.tw/images/bg/logo.jpg) \n",
    "\n",
    "## 多元選修課程：Python與人工智慧程式設計\n",
    "\n",
    "# 【第四週-2】Python字元與字串"
   ]
  },
  {
   "cell_type": "markdown",
   "metadata": {},
   "source": [
    "### 【任務4-7】初識字串(string)\n",
    "\n",
    "Python的字串(string)是指包含在兩個單引號(`'`)或是兩個雙引號(`\"`)之間的字元及符號資料。Python 3之後對於萬國編碼(unicode)字元的支援更好，所以在處理字元時更加方便。\n",
    "\n",
    "跟其他很多程式語言不同的地方在於，單一字元或是多個宇元組成的字串，在Python裡面均屬於字串類別，所以在處理字元和字串時，大部分情況下可以視為相同。"
   ]
  },
  {
   "cell_type": "code",
   "execution_count": 1,
   "metadata": {},
   "outputs": [
    {
     "name": "stdout",
     "output_type": "stream",
     "text": [
      "<class 'str'>\n",
      "<class 'str'>\n"
     ]
    }
   ],
   "source": [
    "print(type('s'))\n",
    "print(type(\"hello world\"))"
   ]
  },
  {
   "cell_type": "markdown",
   "metadata": {},
   "source": [
    "用 `len()` 函式查看字元/字串的長度。從範例裡面我們可以看到，不管是ascii code或是unicode字元/字串的字數算法都一樣，不會因為是中文字而長度不同。"
   ]
  },
  {
   "cell_type": "code",
   "execution_count": 2,
   "metadata": {},
   "outputs": [
    {
     "name": "stdout",
     "output_type": "stream",
     "text": [
      "1\n",
      "1\n"
     ]
    }
   ],
   "source": [
    "print(len('a'))\n",
    "print(len('黃'))"
   ]
  },
  {
   "cell_type": "code",
   "execution_count": 3,
   "metadata": {},
   "outputs": [
    {
     "data": {
      "text/plain": [
       "2"
      ]
     },
     "execution_count": 3,
     "metadata": {},
     "output_type": "execute_result"
    }
   ],
   "source": [
    "ss='黃'.encode('Big5')\n",
    "len(ss)"
   ]
  },
  {
   "cell_type": "markdown",
   "metadata": {},
   "source": [
    "實務上常需要用到數字和字串互轉的情況，這時候可以用內建的函式 `int()` 及 `str()`。"
   ]
  },
  {
   "cell_type": "code",
   "execution_count": 4,
   "metadata": {},
   "outputs": [
    {
     "name": "stdin",
     "output_type": "stream",
     "text": [
      "請輸入一個數字： 123\n"
     ]
    }
   ],
   "source": [
    "s = input(\"請輸入一個數字：\")   # 輸入的雖然是數字，但是Python是當做字串來處理。"
   ]
  },
  {
   "cell_type": "code",
   "execution_count": 5,
   "metadata": {},
   "outputs": [
    {
     "name": "stdout",
     "output_type": "stream",
     "text": [
      "輸入的數字大於或等於3\n"
     ]
    }
   ],
   "source": [
    "# 比較前先把輸入值轉為數字，再進行比較\n",
    "if int(s) < 3:\n",
    "    print(\"輸入的數字小於3\")\n",
    "else:\n",
    "    print(\"輸入的數字大於或等於3\")"
   ]
  },
  {
   "cell_type": "code",
   "execution_count": 6,
   "metadata": {},
   "outputs": [
    {
     "data": {
      "text/plain": [
       "str"
      ]
     },
     "execution_count": 6,
     "metadata": {},
     "output_type": "execute_result"
    }
   ],
   "source": [
    "# 把數字轉為字串\n",
    "n = str(123)\n",
    "type(n)"
   ]
  },
  {
   "cell_type": "markdown",
   "metadata": {},
   "source": [
    "### 【任務4-8】對字串做 `+` 會發生什麼事 `*`？\n",
    "\n",
    "`+` 可以用來合併字串。\n",
    "\n",
    "`*` 可以用來重複字串。"
   ]
  },
  {
   "cell_type": "code",
   "execution_count": 7,
   "metadata": {},
   "outputs": [
    {
     "data": {
      "text/plain": [
       "'hello world'"
      ]
     },
     "execution_count": 7,
     "metadata": {},
     "output_type": "execute_result"
    }
   ],
   "source": [
    "str1 = 'hello'\n",
    "str2 = 'world'\n",
    "\n",
    "str1 + ' ' + str2"
   ]
  },
  {
   "cell_type": "code",
   "execution_count": 8,
   "metadata": {},
   "outputs": [
    {
     "data": {
      "text/plain": [
       "'hello hello hello '"
      ]
     },
     "execution_count": 8,
     "metadata": {},
     "output_type": "execute_result"
    }
   ],
   "source": [
    "(str1 + ' ') * 3"
   ]
  },
  {
   "cell_type": "markdown",
   "metadata": {},
   "source": [
    "### 【任務4-9】在字串中擷取其中的一部分(字元或子字串)\n",
    "\n",
    "在字串中擷取其中的一部分，可以使用索引或切片(slicing)。"
   ]
  },
  {
   "cell_type": "markdown",
   "metadata": {},
   "source": [
    "#### 索引\n",
    "\n",
    "索引是用來找出字串中特定字元的位置。\n",
    "\n",
    "索引值是從0開始，所以第5個字的索引是4，第6個字的索引是5"
   ]
  },
  {
   "cell_type": "code",
   "execution_count": 9,
   "metadata": {},
   "outputs": [],
   "source": [
    "s = \"hello world\""
   ]
  },
  {
   "cell_type": "code",
   "execution_count": 10,
   "metadata": {},
   "outputs": [
    {
     "data": {
      "text/plain": [
       "('o', ' ')"
      ]
     },
     "execution_count": 10,
     "metadata": {},
     "output_type": "execute_result"
    }
   ],
   "source": [
    "# 找出字串中的第5和第6個字\n",
    "# 索引值是從0開始，所以第5個字的索引是4，第6個字的索引是5\n",
    "s[4], s[5]"
   ]
  },
  {
   "cell_type": "code",
   "execution_count": 11,
   "metadata": {},
   "outputs": [
    {
     "data": {
      "text/plain": [
       "'d'"
      ]
     },
     "execution_count": 11,
     "metadata": {},
     "output_type": "execute_result"
    }
   ],
   "source": [
    "# 負索引值的意思是從字尾往前算，-1的話是取最後一個字元\n",
    "s[-1]"
   ]
  },
  {
   "cell_type": "markdown",
   "metadata": {},
   "source": [
    "#### 切片(slicing)\n",
    "\n",
    "切片是用來擷取字串中的部分內容，可以稱之為子字串。\n",
    "\n",
    "切片的語法：\n",
    "\n",
    "```python\n",
    "字串名[起始索引:結束索引[:跨步值]]\n",
    "```\n",
    "\n",
    "須留意，結束索引的字元是<font color='red'>**不會包含**</font>在切片結果的。"
   ]
  },
  {
   "cell_type": "code",
   "execution_count": 12,
   "metadata": {},
   "outputs": [
    {
     "data": {
      "text/plain": [
       "'hell'"
      ]
     },
     "execution_count": 12,
     "metadata": {},
     "output_type": "execute_result"
    }
   ],
   "source": [
    "# 跨步值預設值是1，可以不輸入。\n",
    "s[0:4]"
   ]
  },
  {
   "cell_type": "code",
   "execution_count": 13,
   "metadata": {},
   "outputs": [
    {
     "data": {
      "text/plain": [
       "'hlowrd'"
      ]
     },
     "execution_count": 13,
     "metadata": {},
     "output_type": "execute_result"
    }
   ],
   "source": [
    "# 取回間隔的字元\n",
    "s[0:12:2]"
   ]
  },
  {
   "cell_type": "code",
   "execution_count": 14,
   "metadata": {},
   "outputs": [
    {
     "data": {
      "text/plain": [
       "'hello'"
      ]
     },
     "execution_count": 14,
     "metadata": {},
     "output_type": "execute_result"
    }
   ],
   "source": [
    "# 如果沒有起始或結束索引的話，代表取回之前或之後的所有字元。\n",
    "s[:5]"
   ]
  },
  {
   "cell_type": "markdown",
   "metadata": {},
   "source": [
    "### 【任務4-10】了解跳脫字元(escape character)\n",
    "\n",
    "在字串或是純文字的處理時，我們常需要處理符號(例如引號)和特定的字元(例如換行)，這時候需要藉助跳脫字元的標示，才能正確地處理文字，達到我們預期的效果。\n",
    "\n",
    "常用跳脫字元如下：\n",
    "\n",
    "|跳脫字元|意義|\n",
    "|---|---|\n",
    "|\\'|單引號|\n",
    "|\\\"|雙引號|\n",
    "|\\\\|反斜線|\n",
    "|\\n|換行|\n",
    "|\\t|tab鍵|\n",
    "\n",
    "例如：若要印出James's full name這個字串，裡面的單引號會跟Python字串的單引號混淆，造成輸出錯誤。"
   ]
  },
  {
   "cell_type": "code",
   "execution_count": 15,
   "metadata": {},
   "outputs": [
    {
     "ename": "SyntaxError",
     "evalue": "invalid syntax (<ipython-input-15-e68c89482f92>, line 1)",
     "output_type": "error",
     "traceback": [
      "\u001b[0;36m  File \u001b[0;32m\"<ipython-input-15-e68c89482f92>\"\u001b[0;36m, line \u001b[0;32m1\u001b[0m\n\u001b[0;31m    print('James's full name is James Huang.')\u001b[0m\n\u001b[0m                 ^\u001b[0m\n\u001b[0;31mSyntaxError\u001b[0m\u001b[0;31m:\u001b[0m invalid syntax\n"
     ]
    }
   ],
   "source": [
    "print('James's full name is James Huang.')"
   ]
  },
  {
   "cell_type": "markdown",
   "metadata": {},
   "source": [
    "使用跳脫字元，正確告訴Python那是字串內的單引號，要正常印出。"
   ]
  },
  {
   "cell_type": "code",
   "execution_count": 16,
   "metadata": {},
   "outputs": [
    {
     "name": "stdout",
     "output_type": "stream",
     "text": [
      "James's full name is James Huang.\n"
     ]
    }
   ],
   "source": [
    "print('James\\'s full name is James Huang.')"
   ]
  },
  {
   "cell_type": "markdown",
   "metadata": {},
   "source": [
    "### 【任務4-11】判斷字串開頭跟結尾是否符合特定字串\n",
    "\n",
    "用下列兩個函式，可以讓我們找到字串開頭跟結尾是否符合特定字串。\n",
    "\n",
    "|函式|意義|\n",
    "|---|---|\n",
    "|`startswith(prefix)`|判斷字串開頭是否符合某些字元或字串|\n",
    "|`str.endswith(suffix)`|判斷字串結尾是否符合某些字元或字串|\n",
    "\n",
    "同樣的函式選用參數中，可以傳入起始和結束索引，在這個索引區間中的子字串去判斷開頭跟結尾是否符合特定字串。\n",
    "\n",
    "|函式|意義|\n",
    "|---|---|\n",
    "|`startswith(prefix[, start[, end]])`|判斷字串的特定位置是否是由某些字元或字串開頭|\n",
    "|`str.endswith(suffix[, start[, end]])`|判斷字串的特定位置是否是由某些字元或字串結尾|\n",
    "\n",
    "如果有找到符合的字串，回傳 `True`，否則回傳 `False`。"
   ]
  },
  {
   "cell_type": "code",
   "execution_count": 17,
   "metadata": {},
   "outputs": [
    {
     "data": {
      "text/plain": [
       "True"
      ]
     },
     "execution_count": 17,
     "metadata": {},
     "output_type": "execute_result"
    }
   ],
   "source": [
    "s = 'hello world'\n",
    "s.startswith('hel')"
   ]
  },
  {
   "cell_type": "code",
   "execution_count": 18,
   "metadata": {},
   "outputs": [
    {
     "data": {
      "text/plain": [
       "False"
      ]
     },
     "execution_count": 18,
     "metadata": {},
     "output_type": "execute_result"
    }
   ],
   "source": [
    "s.startswith('lo', 6, 10)"
   ]
  },
  {
   "cell_type": "code",
   "execution_count": 19,
   "metadata": {},
   "outputs": [
    {
     "data": {
      "text/plain": [
       "True"
      ]
     },
     "execution_count": 19,
     "metadata": {},
     "output_type": "execute_result"
    }
   ],
   "source": [
    "s.endswith('lo', 0, 5)"
   ]
  },
  {
   "cell_type": "markdown",
   "metadata": {},
   "source": [
    "### 【任務4-12】刪除字串裡，頭或尾的特定字元組合\n",
    "\n",
    "|函式|意義|\n",
    "|---|---|\n",
    "|str.strip([chars])|刪除字串裡，頭及尾的特定字元組合|\n",
    "|str.lstrip([chars])|刪除字串裡，開頭的特定字元組合|\n",
    "|str.rstrip([chars])|刪除字串裡，結尾的特定字元組合|\n",
    "\n",
    "下面的例子中，只要有包含 `cmowz.` 字元的任何組合，從頭開始或是從尾往回找，都是要刪除的內容。由於 `e` 不屬於要找的字元組合裡面，所以找到 `e` 就停止，因此去頭去尾之後的字串是 `example`。"
   ]
  },
  {
   "cell_type": "code",
   "execution_count": 20,
   "metadata": {},
   "outputs": [
    {
     "data": {
      "text/plain": [
       "'example'"
      ]
     },
     "execution_count": 20,
     "metadata": {},
     "output_type": "execute_result"
    }
   ],
   "source": [
    "'www.example.com'.strip('cmowz.')"
   ]
  },
  {
   "cell_type": "markdown",
   "metadata": {},
   "source": [
    "### 【想一想】下面程式執行後，會得到什麼字串？\n",
    "\n",
    "```python\n",
    "s = '詩文:寥落古行宮，宮花寂寞紅。白頭宮女在，閒坐說玄宗。'\n",
    "s.strip('詩文:')\n",
    "```"
   ]
  },
  {
   "cell_type": "code",
   "execution_count": null,
   "metadata": {},
   "outputs": [],
   "source": []
  },
  {
   "cell_type": "markdown",
   "metadata": {},
   "source": [
    "### 【任務4-13】怎麼更換字串的特定字串\n",
    "\n",
    "用 `replace()` 函式，傳入參數：待更換字串、要更換的字串。也可以傳入要更換的次數，預設值為1，也就是預設僅更新找到第一筆符合的字串。\n",
    "\n",
    "```python\n",
    "str.replace(old, new[, count])\n",
    "```"
   ]
  },
  {
   "cell_type": "code",
   "execution_count": 21,
   "metadata": {},
   "outputs": [
    {
     "data": {
      "text/plain": [
       "'hello python'"
      ]
     },
     "execution_count": 21,
     "metadata": {},
     "output_type": "execute_result"
    }
   ],
   "source": [
    "s = 'hello world'\n",
    "s.replace('world', 'python')"
   ]
  },
  {
   "cell_type": "markdown",
   "metadata": {},
   "source": [
    "### 【任務4-14】串列(List)和字串互相轉換\n",
    "\n",
    "串列和字串都是可迭代的物件，實務上常會遇到需要轉換的機會。\n",
    "\n",
    "用 `list()` 及 `' '.join(list)` 函式可以將字串轉為串列，或將串列轉為文字輸出。"
   ]
  },
  {
   "cell_type": "code",
   "execution_count": 22,
   "metadata": {},
   "outputs": [
    {
     "data": {
      "text/plain": [
       "['h', 'e', 'l', 'l', 'o', ' ', 'w', 'o', 'r', 'l', 'd']"
      ]
     },
     "execution_count": 22,
     "metadata": {},
     "output_type": "execute_result"
    }
   ],
   "source": [
    "s = \"hello world\"\n",
    "\n",
    "a = list(s)\n",
    "a"
   ]
  },
  {
   "cell_type": "code",
   "execution_count": 23,
   "metadata": {},
   "outputs": [
    {
     "data": {
      "text/plain": [
       "'hello world'"
      ]
     },
     "execution_count": 23,
     "metadata": {},
     "output_type": "execute_result"
    }
   ],
   "source": [
    "''.join(a)"
   ]
  },
  {
   "cell_type": "markdown",
   "metadata": {},
   "source": [
    "在 join 時也可以定義在每個元素之間要插入的字串或符號。"
   ]
  },
  {
   "cell_type": "code",
   "execution_count": 24,
   "metadata": {},
   "outputs": [
    {
     "data": {
      "text/plain": [
       "'h... e... l... l... o...  ... w... o... r... l... d'"
      ]
     },
     "execution_count": 24,
     "metadata": {},
     "output_type": "execute_result"
    }
   ],
   "source": [
    "'... '.join(a)"
   ]
  },
  {
   "cell_type": "markdown",
   "metadata": {},
   "source": [
    "### 【任務4-15】熟悉Python，不會作詩會也寫藏頭唐詩生成器\n",
    "\n",
    "這是一個簡易版本的**藏頭唐詩產生器**，用來練習Python字串處理。\n",
    "\n",
    "唐詩資料來源：[https://github.com/rime-aca/corpus/blob/master/%E5%94%90%E8%A9%A9%E4%B8%89%E7%99%BE%E9%A6%96.txt](https://github.com/rime-aca/corpus/blob/master/%E5%94%90%E8%A9%A9%E4%B8%89%E7%99%BE%E9%A6%96.txt)"
   ]
  },
  {
   "cell_type": "markdown",
   "metadata": {},
   "source": [
    "#### 步驟\n",
    "\n",
    "1. 第一件事，先想想我們要怎麼樣取得唐詩的資料？自己輸入唐詩，還是去找找有沒有現成免費的可以拿來用？哪一種方式比較可行？\n",
    "\n",
    "2. 第二件事，拿到資料，先分析資料要怎麼使用。開啟唐詩來源檔(300.txt)，它是一個文字檔，內容包含詩名、作者、詩體、詩文，詩文是我們要保留的唐詩本文。\n",
    "\n",
    "3. 再開啟另一個檔案，我們將會把去掉不需要內容後的唐詩本文，存到另一個文字檔案(300cleaned.txt)。"
   ]
  },
  {
   "cell_type": "code",
   "execution_count": 25,
   "metadata": {},
   "outputs": [],
   "source": [
    "f_original = open(\"300.txt\", \"r\")         # open() 函式用來開啟檔案，參數包含檔案及開啟模式，\n",
    "                                          # 模式 r 的意思是讀取模式，不能寫入或更新。\n",
    "f_cleaned = open(\"300cleaned.txt\", \"w\")   # 模式 w 的意思是寫入模式。"
   ]
  },
  {
   "cell_type": "markdown",
   "metadata": {},
   "source": [
    "4. 逐行讀入唐詩來源檔。\n",
    "\n",
    "5. 逐行解析每一行文字，只要發現該行裡面有 `詩文:` 字樣，就處理這一行。詩文也就是我們要保留下來的唐詩本文。\n",
    "\n",
    "6. 先去掉 `詩文:` 字樣，再來把每句句尾的 `， 。 ？` 取代為換行符號 `\\n`。\n",
    "\n",
    "7. 把處理完的字串，儲存到文字檔(300cleaned.txt)中，這個文字檔內容是解析完的唐詩本文。"
   ]
  },
  {
   "cell_type": "code",
   "execution_count": 26,
   "metadata": {},
   "outputs": [],
   "source": [
    "# 逐行讀入唐詩來源檔\n",
    "Lines = f_original.readlines() \n",
    "  \n",
    "for line in Lines: \n",
    "    if '詩文:' in line:\n",
    "        # 把 '詩文:' 字樣去掉\n",
    "        stripped = line.strip('詩文:')\n",
    "        \n",
    "        # 把每句句尾的 '， 。 ？' 取代為換行符號 '\\n'\n",
    "        stripped = stripped.replace(\"，\", \"\\n\").replace(\"。\", \"\\n\").replace(\"？\", \"\\n\")\n",
    "        \n",
    "        # 把處理完的字串，儲存到文字檔\n",
    "        f_cleaned.write(stripped)\n",
    "\n",
    "# 檔案使用完畢，記得要使用 close() 函式關閉檔案。\n",
    "# 已關閉的檔案就不能再被取用。\n",
    "f_original.close()\n",
    "f_cleaned.close()"
   ]
  },
  {
   "cell_type": "markdown",
   "metadata": {},
   "source": [
    "8. 開啟處理過的唐詩本文文字檔(300cleaned.txt)，逐行讀入檔案內容。\n",
    "\n",
    "9. 把五言、七言、其他字數的行數分離出來，分別存入不同的串列。"
   ]
  },
  {
   "cell_type": "code",
   "execution_count": 27,
   "metadata": {},
   "outputs": [],
   "source": [
    "five_words = []\n",
    "seven_words = []\n",
    "other_words = []\n",
    "\n",
    "f = open(\"300cleaned.txt\", \"r\")\n",
    "\n",
    "Lines = f.readlines()\n",
    "\n",
    "for line in Lines:\n",
    "    # 由於每句句尾都有換行字元，要計算字數時須排除才能算出正確字數\n",
    "    if len(line.strip('\\n')) == 5:   \n",
    "        five_words.append(line)\n",
    "    elif len(line.strip('\\n')) == 7:\n",
    "        seven_words.append(line)\n",
    "    else:\n",
    "        other_words.append(line)\n",
    "        \n",
    "f.close()"
   ]
  },
  {
   "cell_type": "markdown",
   "metadata": {},
   "source": [
    "10. 使用 random 模組，把五言、七言、其他字數串列中的元素，做洗牌的動作，讓我們可以每次都得到不同的詩句。"
   ]
  },
  {
   "cell_type": "code",
   "execution_count": 28,
   "metadata": {},
   "outputs": [],
   "source": [
    "import random\n",
    "\n",
    "random.shuffle(five_words)\n",
    "random.shuffle(seven_words)\n",
    "random.shuffle(other_words)"
   ]
  },
  {
   "cell_type": "markdown",
   "metadata": {},
   "source": [
    "11. 輸入要產生五言或七言，以及藏頭詩的句首。"
   ]
  },
  {
   "cell_type": "code",
   "execution_count": 29,
   "metadata": {},
   "outputs": [
    {
     "name": "stdin",
     "output_type": "stream",
     "text": [
      "請問要產生五言還是七言(輸入數字5或7)： 5\n"
     ]
    }
   ],
   "source": [
    "number = input(\"請問要產生五言還是七言(輸入數字5或7)：\")"
   ]
  },
  {
   "cell_type": "code",
   "execution_count": 30,
   "metadata": {},
   "outputs": [
    {
     "name": "stdin",
     "output_type": "stream",
     "text": [
      "請輸入藏頭詩的句首： 東山高中\n"
     ]
    }
   ],
   "source": [
    "userinput = input(\"請輸入藏頭詩的句首：\")"
   ]
  },
  {
   "cell_type": "markdown",
   "metadata": {},
   "source": [
    "12. 根據輸入的藏頭詩的句首和五言/七言，到串列中找到符合各句句首的詩句。\n",
    "\n",
    "13. 把產生出來的詩句存到串列中。\n",
    "\n",
    "14. 印出藏頭詩。"
   ]
  },
  {
   "cell_type": "code",
   "execution_count": 31,
   "metadata": {},
   "outputs": [
    {
     "name": "stdout",
     "output_type": "stream",
     "text": [
      "產生的藏頭詩：\n",
      "東林懷我師\n",
      "山愛夕陽時\n",
      "高風漢陽渡\n",
      "中歲頗好道\n",
      "\n"
     ]
    }
   ],
   "source": [
    "acrostic = []\n",
    "\n",
    "# 根據輸入的藏頭詩的句首和五言/七言，到串列中找到符合各句句首的詩句。\n",
    "for s in userinput:\n",
    "    # 用 input 得到的五言/七言選項是字串型別，\n",
    "    # 所以需要用 int() 函式轉換為整數，再進行\n",
    "    # 比較。\n",
    "    if int(number) == 5:             \n",
    "        for i in five_words:\n",
    "            if i.startswith(s):      # 如果找到符合的句首\n",
    "                acrostic.append(i)   # 把產生出來的詩句存到串列中\n",
    "                break\n",
    "    elif int(number) == 7:\n",
    "        for i in seven_words:\n",
    "            if i.startswith(s):\n",
    "                acrostic.append(i)\n",
    "                break\n",
    "    else:\n",
    "        for i in other_words:\n",
    "            if i.startswith(s):\n",
    "                acrostic.append(i)\n",
    "                break\n",
    "\n",
    "# 如果產生出來的藏頭詩串列元素數目小於輸入的句首字數，\n",
    "# 代表找不到足夠的符合句首來產生藏頭詩。\n",
    "# \n",
    "# 成功產生的話，輸出產生的藏頭詩。\n",
    "if len(acrostic) < len(userinput):\n",
    "    print(\"找不到合適的句首生成藏頭詩\")\n",
    "else:\n",
    "    print(\"產生的藏頭詩：\")\n",
    "    print(''.join(acrostic))"
   ]
  },
  {
   "cell_type": "markdown",
   "metadata": {},
   "source": [
    "### 【任務4-16】怎麼知道有哪些字可以拿來當做藏頭呢"
   ]
  },
  {
   "cell_type": "code",
   "execution_count": 32,
   "metadata": {},
   "outputs": [
    {
     "name": "stdout",
     "output_type": "stream",
     "text": [
      "散 經 閒 望 向 歸 遙 楓 賭 多 王 相 際 還 我 竹 欲 洗 應 吾 決 天 千 分 漢 黽 潭 澹 至 後 恨 飛 閨 風 海 當 山 斜 狂 教 不 長 殘 松 涼 驅 鉛 江 誰 旅 曲 空 越 處 秋 意 曉 床 蒼 西 采 舟 牽 自 慈 大 惜 蠶 三 川 側 昔 家 又 官 中 隨 幽 聲 高 暫 寒 可 安 所 清 綠 五 復 他 草 念 終 昨 人 理 遺 名 戍 城 楚 微 何 夕 貴 弋 遠 危 勝 南 浩 雙 湖 關 滄 晚 未 木 余 既 維 此 徒 妾 共 泠 貞 明 深 悵 來 滯 駐 君 白 十 墟 巢 願 莓 雲 倚 皆 暮 萬 爾 由 鳳 宮 鷲 遂 況 茅 猿 近 絕 水 汲 疑 錦 黃 泉 披 涵 談 新 朝 荊 將 掩 方 兒 已 低 吏 蘭 淨 衣 青 重 古 文 落 功 蓮 積 偶 林 勢 待 凝 夜 聽 春 冥 出 寥 窮 魂 心 少 幾 打 前 滅 波 揮 行 請 彈 素 懷 坐 聯 造 今 隔 樵 生 池 蟬 背 東 陽 群 鄉 事 時 連 翻 兄 竟 祗 客 流 醒 茫 樽 但 持 覺 與 國 月 緣 以 開 紅 美 魚 仍 寄 言 征 一 別 戎 嘉 把 情 吳 淒 平 秦 若 動 莫 雁 鬢 地 轉 嶺 雷 端 上 同 邀 日 漸 壯 齊 想 渡 燕 井 七 孤 北 那 野 循 醉 節 浮 逐 寂 八 蕭 神 煩 租 襄 露 驚 故 迷 即 侍 獨 羈 知 得 問 渾 帝 鮮 報 桂 忽 荒 每 沙 樹 太 河 曾 愁 崢 浦 潮 先 使 感 磴 罷 惟 是 離 預 斷 漾 舊 鶯 灞 孝 停 遊 鬚 雨 稱 沿 世 逍 英 去 賴 胡 佳 夫 陰 靜 早 老 叩 從 魑 興 憶 訪 蕃 樂 俯 卻 渚 星 臨 半 移 偏 燈 花 對 幸 盪 京 餘 參 縣 其 之 男 乾 童 慕 業 登 嫁 歡 語 腸 仰 化 苒 車 豈 羊 捨 手 告 有 矯 丹 永 摘 調 啾 歎 建 繁 下 奈 苦 數 因 蜀 主 淼 無 聞 矜 搴 薄 性 迢 傳 烽 鴛 頻 煙 禪 塔 信 及 羌 悟 梧 撫 初 繞 疏 郡 惆 眼 兩 仁 步 死 裁 澗 見 乍 道 玲 芳 迫 斯 更 幼 或 蔬 亂 思 路 吹 愧 影 香 鴻 折 杳 依 突 反 巴 飄 楊 居 良 勿 真 承 牛 憑 漁 色 垂 零 資 本 輕 澄 栖 悽 傷 淑 欣 孰 砧 氣 單 菡 四 好 效 岱 雉 合 小 殺 冠 窺 玉 置 返 淮 門 直 且 晴 常 頭 陶 遵 久 沾 洞 苔 引 讀 邊 顏 役 猶 只 聖 年 舉 身 萋 容 賤 義 隱 投 為 荷 須 腳 梅 黯 怡 總 如 羞 田 泛 漠 瞿 能 藥 飲 郎 令 溪 哥 演 湘 恐 運 頗 宅 趣 鳴 廣 雖 奔 誓 沒 仙 鏡 往 遇 列 鳥 銷 翡 啼 繕 女 唯 留 採 送 細 兵 颺 焉 艷 差 會 忘 貧 回 咸 在\n"
     ]
    }
   ],
   "source": [
    "first_word = []\n",
    "used = []\n",
    "\n",
    "for i in five_words:\n",
    "    first_word.append(i[0])   # 把五言詩句的字首擷取出來\n",
    "\n",
    "# 把不重複的字存到串列中，並印出來\n",
    "for x in first_word:\n",
    "    if x not in used:\n",
    "        used.append(x)\n",
    "\n",
    "print(' '.join(used))"
   ]
  },
  {
   "cell_type": "markdown",
   "metadata": {},
   "source": [
    "### 【挑戰】請問唐詩300首，句首(第一個字)用了多少個不重複的字？"
   ]
  },
  {
   "cell_type": "code",
   "execution_count": 36,
   "metadata": {},
   "outputs": [],
   "source": [
    "# 請在下一行開始輸入你的程式碼\n"
   ]
  },
  {
   "cell_type": "markdown",
   "metadata": {},
   "source": [
    "進階語法：<font color='red'>List comprehensions</font>，或譯為串列推導式，如範例可使用單行 for 迴圈產生串列。"
   ]
  },
  {
   "cell_type": "code",
   "execution_count": 34,
   "metadata": {},
   "outputs": [
    {
     "name": "stdout",
     "output_type": "stream",
     "text": [
      "散 經 閒 望 向 歸 遙 楓 賭 多 王 相 際 還 我 竹 欲 洗 應 吾 決 天 千 分 漢 黽 潭 澹 至 後 恨 飛 閨 風 海 當 山 斜 狂 教 不 長 殘 松 涼 驅 鉛 江 誰 旅 曲 空 越 處 秋 意 曉 床 蒼 西 采 舟 牽 自 慈 大 惜 蠶 三 川 側 昔 家 又 官 中 隨 幽 聲 高 暫 寒 可 安 所 清 綠 五 復 他 草 念 終 昨 人 理 遺 名 戍 城 楚 微 何 夕 貴 弋 遠 危 勝 南 浩 雙 湖 關 滄 晚 未 木 余 既 維 此 徒 妾 共 泠 貞 明 深 悵 來 滯 駐 君 白 十 墟 巢 願 莓 雲 倚 皆 暮 萬 爾 由 鳳 宮 鷲 遂 況 茅 猿 近 絕 水 汲 疑 錦 黃 泉 披 涵 談 新 朝 荊 將 掩 方 兒 已 低 吏 蘭 淨 衣 青 重 古 文 落 功 蓮 積 偶 林 勢 待 凝 夜 聽 春 冥 出 寥 窮 魂 心 少 幾 打 前 滅 波 揮 行 請 彈 素 懷 坐 聯 造 今 隔 樵 生 池 蟬 背 東 陽 群 鄉 事 時 連 翻 兄 竟 祗 客 流 醒 茫 樽 但 持 覺 與 國 月 緣 以 開 紅 美 魚 仍 寄 言 征 一 別 戎 嘉 把 情 吳 淒 平 秦 若 動 莫 雁 鬢 地 轉 嶺 雷 端 上 同 邀 日 漸 壯 齊 想 渡 燕 井 七 孤 北 那 野 循 醉 節 浮 逐 寂 八 蕭 神 煩 租 襄 露 驚 故 迷 即 侍 獨 羈 知 得 問 渾 帝 鮮 報 桂 忽 荒 每 沙 樹 太 河 曾 愁 崢 浦 潮 先 使 感 磴 罷 惟 是 離 預 斷 漾 舊 鶯 灞 孝 停 遊 鬚 雨 稱 沿 世 逍 英 去 賴 胡 佳 夫 陰 靜 早 老 叩 從 魑 興 憶 訪 蕃 樂 俯 卻 渚 星 臨 半 移 偏 燈 花 對 幸 盪 京 餘 參 縣 其 之 男 乾 童 慕 業 登 嫁 歡 語 腸 仰 化 苒 車 豈 羊 捨 手 告 有 矯 丹 永 摘 調 啾 歎 建 繁 下 奈 苦 數 因 蜀 主 淼 無 聞 矜 搴 薄 性 迢 傳 烽 鴛 頻 煙 禪 塔 信 及 羌 悟 梧 撫 初 繞 疏 郡 惆 眼 兩 仁 步 死 裁 澗 見 乍 道 玲 芳 迫 斯 更 幼 或 蔬 亂 思 路 吹 愧 影 香 鴻 折 杳 依 突 反 巴 飄 楊 居 良 勿 真 承 牛 憑 漁 色 垂 零 資 本 輕 澄 栖 悽 傷 淑 欣 孰 砧 氣 單 菡 四 好 效 岱 雉 合 小 殺 冠 窺 玉 置 返 淮 門 直 且 晴 常 頭 陶 遵 久 沾 洞 苔 引 讀 邊 顏 役 猶 只 聖 年 舉 身 萋 容 賤 義 隱 投 為 荷 須 腳 梅 黯 怡 總 如 羞 田 泛 漠 瞿 能 藥 飲 郎 令 溪 哥 演 湘 恐 運 頗 宅 趣 鳴 廣 雖 奔 誓 沒 仙 鏡 往 遇 列 鳥 銷 翡 啼 繕 女 唯 留 採 送 細 兵 颺 焉 艷 差 會 忘 貧 回 咸 在\n"
     ]
    }
   ],
   "source": [
    "first_word = []\n",
    "used = []\n",
    "\n",
    "for i in five_words:\n",
    "    first_word.append(i[0])   # 把五言詩句的字首擷取出來\n",
    "\n",
    "# 進階語法：把不重複的字存到串列中，並印出來\n",
    "[used.append(x) for x in first_word if x not in used]\n",
    "print(' '.join(used))"
   ]
  },
  {
   "cell_type": "markdown",
   "metadata": {},
   "source": [
    "### 【挑戰】想一想，要怎麼找到可以使用的七言詩句句首"
   ]
  },
  {
   "cell_type": "code",
   "execution_count": 35,
   "metadata": {},
   "outputs": [],
   "source": [
    "# 請在下一行開始輸入你的程式碼\n"
   ]
  },
  {
   "cell_type": "markdown",
   "metadata": {},
   "source": [
    "### 【挑戰】想一想，這個藏頭唐詩生成器有什麼優缺點？有沒有什麼可以改善的地方？"
   ]
  },
  {
   "cell_type": "code",
   "execution_count": null,
   "metadata": {},
   "outputs": [],
   "source": []
  }
 ],
 "metadata": {
  "kernelspec": {
   "display_name": "Python 3",
   "language": "python",
   "name": "python3"
  },
  "language_info": {
   "codemirror_mode": {
    "name": "ipython",
    "version": 3
   },
   "file_extension": ".py",
   "mimetype": "text/x-python",
   "name": "python",
   "nbconvert_exporter": "python",
   "pygments_lexer": "ipython3",
   "version": "3.7.4"
  }
 },
 "nbformat": 4,
 "nbformat_minor": 4
}
