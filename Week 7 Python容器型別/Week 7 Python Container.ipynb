{
 "cells": [
  {
   "cell_type": "markdown",
   "metadata": {},
   "source": [
    "![](http://www.tshs.tp.edu.tw/images/bg/logo.jpg) \n",
    "\n",
    "## 多元選修課程：Python與人工智慧程式設計\n",
    "\n",
    "# 【第七週】Python容器(Container)型別\n",
    "\n",
    "Python提供數種不同的容器型別，來儲存不同類型的資料。各種不同的容器有其相似與不同之處，在操作和使用上也是。在先前的內容我們介紹過串列(List)，接下來要認識常用與重要的元組(Tuple)與字典(Dict)。\n",
    "\n",
    "list\n",
    "tuple\n",
    "dictionary\n",
    "set\n",
    "queue\n",
    "collection\n",
    "array"
   ]
  },
  {
   "cell_type": "markdown",
   "metadata": {},
   "source": [
    "### 【任務】如何建立元組(Tuple)\n",
    "\n",
    "元組(Tuple)在使用上和串列類似，在語法上有一點小小的不同，元組是用小括號 `( )` 來包含元素。下面的例子是建立一個包含3個元素的元組，元素之間用逗號接續。"
   ]
  },
  {
   "cell_type": "code",
   "execution_count": 1,
   "metadata": {},
   "outputs": [
    {
     "data": {
      "text/plain": [
       "(1, 2, 3, 4, 5)"
      ]
     },
     "execution_count": 1,
     "metadata": {},
     "output_type": "execute_result"
    }
   ],
   "source": [
    "t = (1, 2, 3, 4, 5)\n",
    "t"
   ]
  },
  {
   "cell_type": "markdown",
   "metadata": {},
   "source": [
    "呼叫 `type()` 函式可以看到 t 的型別為元組。"
   ]
  },
  {
   "cell_type": "code",
   "execution_count": 2,
   "metadata": {},
   "outputs": [
    {
     "data": {
      "text/plain": [
       "tuple"
      ]
     },
     "execution_count": 2,
     "metadata": {},
     "output_type": "execute_result"
    }
   ],
   "source": [
    "type(t)"
   ]
  },
  {
   "cell_type": "markdown",
   "metadata": {},
   "source": [
    "[複習] 用 `len()` 函式查看元組中有3個元素。"
   ]
  },
  {
   "cell_type": "code",
   "execution_count": 3,
   "metadata": {},
   "outputs": [
    {
     "data": {
      "text/plain": [
       "5"
      ]
     },
     "execution_count": 3,
     "metadata": {},
     "output_type": "execute_result"
    }
   ],
   "source": [
    "len(t)"
   ]
  },
  {
   "cell_type": "markdown",
   "metadata": {},
   "source": [
    "元組跟串列一樣是可迭代的，若要取出元組中的每一個元素，其中一個方式是用 for 迴圈。"
   ]
  },
  {
   "cell_type": "code",
   "execution_count": 4,
   "metadata": {},
   "outputs": [
    {
     "name": "stdout",
     "output_type": "stream",
     "text": [
      "1\n",
      "2\n",
      "3\n",
      "4\n",
      "5\n"
     ]
    }
   ],
   "source": [
    "for i in t:\n",
    "    print(i)"
   ]
  },
  {
   "cell_type": "markdown",
   "metadata": {},
   "source": [
    "### <span style=\"color:blue\">【複習】你跟元組(Tuple)的第一次接觸</span>\n",
    "\n",
    "<font color='red'>回憶一下</font>，在9/25課程的\"【挑戰】傳入不定數量的參數來呼叫函式\"中，我們曾經嘗試設計一個函式來接收不定數量的參數來處理及計算各年份的汙染物顆數。\n",
    "\n",
    "> $\\Large P＝1000t^{1.25} ＋14000$\n",
    "\n",
    "> 利用這個公式來計算2000年、2010年、2020年時每立方公分汙染物的顆數各為多少？\n",
    "\n",
    "> 需求：\n",
    "> - 呼叫函式傳多個年份參數，將所有年份的汙染物顆數加入到List中。\n",
    "> - List做為函式的回傳值，並印出回傳結果。\n",
    "\n",
    "<font color='red'>下面的程式碼是參考解答，可以看到這邊允許多個引數的變數 `year` 即為 Tuple 型別。</font>Tuple跟串列一樣(List)，都是可迭代的，所以可以用範例中 for 迴圈的示範，把元組中的元素一一拿出來。"
   ]
  },
  {
   "cell_type": "code",
   "execution_count": 5,
   "metadata": {},
   "outputs": [
    {
     "name": "stdout",
     "output_type": "stream",
     "text": [
      "印出List\n",
      "[56294.850537622566, 84210.41957962148, 114594.67437463484] \n",
      "\n",
      "逐筆印出\n",
      "14000.0\n",
      "56294.850537622566\n",
      "84210.41957962148\n",
      "114594.67437463484\n"
     ]
    }
   ],
   "source": [
    "def cal_pollutants(*year):\n",
    "    P = []\n",
    "    \n",
    "    '''\n",
    "    year 的型別為元組(tuple)，在後面的單元會介紹\n",
    "    但在這邊的應用跟List的方面相當類似\n",
    "    也可以用在for迴圈\n",
    "    '''\n",
    "    for i in year:\n",
    "        t = i - 1980\n",
    "        P.append(1000 * (t ** 1.25) + 14000)\n",
    "    \n",
    "    return P\n",
    "\n",
    "# 印出List\n",
    "print(\"印出List\")\n",
    "print(cal_pollutants(2000, 2010, 2020), \"\\n\")\n",
    "\n",
    "# 也可以再把回傳List的資料值逐筆印出\n",
    "P = cal_pollutants(1980, 2000, 2010, 2020)   # 傳4個參數進去也可以\n",
    "\n",
    "print(\"逐筆印出\")\n",
    "\n",
    "for i in P:\n",
    "    print(i)"
   ]
  },
  {
   "cell_type": "markdown",
   "metadata": {},
   "source": [
    "### 【任務】元組的索引及切片(slicing)\n",
    "\n",
    "跟串列一樣，要取得元組中的元素，可以透過索引與切片。使用索引與切片時，記得要用<font color='red'>中刮號 `[ ]`</font>。"
   ]
  },
  {
   "cell_type": "code",
   "execution_count": 6,
   "metadata": {},
   "outputs": [
    {
     "data": {
      "text/plain": [
       "2"
      ]
     },
     "execution_count": 6,
     "metadata": {},
     "output_type": "execute_result"
    }
   ],
   "source": [
    "# 取得索引值1的元素 (第2個元素) \n",
    "t[1]"
   ]
  },
  {
   "cell_type": "markdown",
   "metadata": {},
   "source": [
    "元組的切片(slicing)是取得串列部分內容。可以透過給定特定範圍的索引取得。\n",
    "\n",
    "切片語法：\n",
    "```python\n",
    "元組名稱[起始值start:結束值stop:跨步值step]\n",
    "```\n",
    "\n",
    "想一想，下面元組切片的範例是不是似曾相識？對的，切片的用法跟串列的切片用法完全相同。"
   ]
  },
  {
   "cell_type": "code",
   "execution_count": 7,
   "metadata": {},
   "outputs": [
    {
     "name": "stdout",
     "output_type": "stream",
     "text": [
      "(1, 2, 3)\n",
      "(4, 5)\n",
      "(1, 2, 3)\n",
      "(3, 4, 5)\n",
      "(1, 2)\n",
      "(1, 3, 5)\n"
     ]
    }
   ],
   "source": [
    "print(t[0:3])   # 索引值可以給範圍，範圍包含起始值但不包含結束值\n",
    "print(t[3:])    # 範圍可以指定某一個元素之後的所有元素\n",
    "print(t[:3])    # 範圍可以指定某一個元素之前的所有元素\n",
    "print(t[-3:])   # 取得後n個元素\n",
    "print(t[:-3])   # 不包含後n個元素\n",
    "print(t[0:5:2]) # 每隔一個索引的元素"
   ]
  },
  {
   "cell_type": "markdown",
   "metadata": {},
   "source": [
    "<span style=\"color:red\">重要！！！元組是**不可變的(immutable)**</span>，所以無法透過索引去改變元組中元素的值。如果嘗試這樣做時，執行時會產生錯誤。"
   ]
  },
  {
   "cell_type": "code",
   "execution_count": 8,
   "metadata": {},
   "outputs": [
    {
     "ename": "TypeError",
     "evalue": "'tuple' object does not support item assignment",
     "output_type": "error",
     "traceback": [
      "\u001b[0;31m---------------------------------------------------------------------------\u001b[0m",
      "\u001b[0;31mTypeError\u001b[0m                                 Traceback (most recent call last)",
      "\u001b[0;32m<ipython-input-8-17883baed432>\u001b[0m in \u001b[0;36m<module>\u001b[0;34m\u001b[0m\n\u001b[0;32m----> 1\u001b[0;31m \u001b[0mt\u001b[0m\u001b[0;34m[\u001b[0m\u001b[0;36m2\u001b[0m\u001b[0;34m]\u001b[0m \u001b[0;34m=\u001b[0m \u001b[0;36m99\u001b[0m\u001b[0;34m\u001b[0m\u001b[0;34m\u001b[0m\u001b[0m\n\u001b[0m",
      "\u001b[0;31mTypeError\u001b[0m: 'tuple' object does not support item assignment"
     ]
    }
   ],
   "source": [
    "t[2] = 99"
   ]
  },
  {
   "cell_type": "markdown",
   "metadata": {},
   "source": [
    "### 【任務】對元組進行 `+` 跟 `*` 會發生什麼事\n",
    "\n",
    "回想字串的 `+` 跟 `*`，對元組進行相同的操作也會得到相同的效果。"
   ]
  },
  {
   "cell_type": "code",
   "execution_count": 9,
   "metadata": {},
   "outputs": [],
   "source": [
    "t1 = (6, 7, 8, 9, 10)"
   ]
  },
  {
   "cell_type": "markdown",
   "metadata": {},
   "source": [
    "兩個元組進行 `+`，可以視為把兩個元組合併。先前提到元組是不可變的，但透過這個方式，我們可以做到可以把新的元素加到元組中。"
   ]
  },
  {
   "cell_type": "code",
   "execution_count": 10,
   "metadata": {},
   "outputs": [
    {
     "data": {
      "text/plain": [
       "(1, 2, 3, 4, 5, 6, 7, 8, 9, 10)"
      ]
     },
     "execution_count": 10,
     "metadata": {},
     "output_type": "execute_result"
    }
   ],
   "source": [
    "t = t + t1\n",
    "t"
   ]
  },
  {
   "cell_type": "markdown",
   "metadata": {},
   "source": [
    "把元組乘以2，也就是把元組元素重覆2次。"
   ]
  },
  {
   "cell_type": "code",
   "execution_count": 11,
   "metadata": {},
   "outputs": [
    {
     "data": {
      "text/plain": [
       "(1, 2, 3, 4, 5, 6, 7, 8, 9, 10, 1, 2, 3, 4, 5, 6, 7, 8, 9, 10)"
      ]
     },
     "execution_count": 11,
     "metadata": {},
     "output_type": "execute_result"
    }
   ],
   "source": [
    "t3 = t * 2\n",
    "t3"
   ]
  },
  {
   "cell_type": "markdown",
   "metadata": {},
   "source": [
    "特別要留意的是，如果要將單一元素加到另一個元組中，除了用小括號將該元素包起來之外，還要在元素後加一個逗號，這樣子Python就可以正確認得是要做元組的 `+`。"
   ]
  },
  {
   "cell_type": "code",
   "execution_count": 12,
   "metadata": {},
   "outputs": [
    {
     "data": {
      "text/plain": [
       "(1, 2, 3, 4, 5, 6, 7, 8, 9, 10, 11)"
      ]
     },
     "execution_count": 12,
     "metadata": {},
     "output_type": "execute_result"
    }
   ],
   "source": [
    "t += (11,)\n",
    "t"
   ]
  },
  {
   "cell_type": "markdown",
   "metadata": {},
   "source": [
    "### 【挑戰】休士頓火箭隊的死亡五小陣容，是不是真的很矮？\n",
    "\n",
    "NBA休士頓火箭隊在比賽中喜歡擺出先發死亡五小陣容來跟對手比快速輪轉及三分球。死亡五小的身高分別為：6呎3吋，6呎5吋，6呎6吋，6呎7吋，6呎5吋。\n",
    "\n",
    "挑戰內容：\n",
    "- 請用Python程式寫一個英呎/英吋轉換為公分的函式\n",
    "$$1英呎=12英吋$$\n",
    "$$1英吋=2.54公分$$\n",
    "- 將轉換為公分的身高，存到一個元組(Tuple)裡面(提示：元組是不可變的)\n",
    "- 計算元組中身高的平均值(提示：使用之前學過的 `sum()` 及 `len()` 函式，可以計算出總和與元素數目)\n",
    "\n",
    "問題：\n",
    "1. 請問死亡五小陣容的平均身高為幾公分？\n",
    "2. 依照NBA官網提供的數字，在2019-2020球季NBA球員的平均身高約為199.5公分。那死亡五小的身高跟全NBA球員的平均身高相比，是較高還是較矮？"
   ]
  },
  {
   "cell_type": "code",
   "execution_count": 13,
   "metadata": {},
   "outputs": [],
   "source": [
    "# 請在下一行開始輸入你的程式碼\n"
   ]
  },
  {
   "cell_type": "markdown",
   "metadata": {},
   "source": [
    "### 【任務】認識字典(dict)\n",
    "\n",
    "字典中，每一個元素都由鍵(key)和值(value)組成，鍵與值中間用冒號分隔，元素則用<font color='red'>大刮號 `{ }` </font>包起來。字典中的鍵(key)不能重複。\n",
    "\n",
    "語法如下：\n",
    "\n",
    "```python\n",
    "d={key1:value1, key2:value2}\n",
    "```\n",
    "\n",
    "也可以用下列的方式建立字典：\n",
    "\n",
    "```python\n",
    "d = dict(key1=value1, key2=value2)\n",
    "```"
   ]
  },
  {
   "cell_type": "code",
   "execution_count": 14,
   "metadata": {},
   "outputs": [],
   "source": [
    "groceries = {'milk':960, 'apple':3, 'bread':10}"
   ]
  },
  {
   "cell_type": "markdown",
   "metadata": {},
   "source": [
    "要取得字典中單一元素的值，可以使用下列語法：\n",
    "\n",
    "```python\n",
    "字典名稱['鍵名稱']\n",
    "```"
   ]
  },
  {
   "cell_type": "code",
   "execution_count": 15,
   "metadata": {},
   "outputs": [
    {
     "data": {
      "text/plain": [
       "3"
      ]
     },
     "execution_count": 15,
     "metadata": {},
     "output_type": "execute_result"
    }
   ],
   "source": [
    "groceries['apple']"
   ]
  },
  {
   "cell_type": "markdown",
   "metadata": {},
   "source": [
    "字典很適合拿來做為儲存資料的方式，下面我們看到存放電影資訊的字典，可以看到在演員的值(value)用串列來存放多個演員的名字。"
   ]
  },
  {
   "cell_type": "code",
   "execution_count": 16,
   "metadata": {},
   "outputs": [
    {
     "data": {
      "text/plain": [
       "{'name': 'TENENT天能',\n",
       " 'year': 2020,\n",
       " 'director': '克里斯多福·諾蘭',\n",
       " 'writer': '克里斯多福·諾蘭',\n",
       " 'actors': ['約翰·大衛·華盛頓', '羅伯·派汀森', '伊莉莎白·戴比基']}"
      ]
     },
     "execution_count": 16,
     "metadata": {},
     "output_type": "execute_result"
    }
   ],
   "source": [
    "movie = {'name':'TENENT天能',                #電影名稱\n",
    "         'year':2020,                 #電影上映年份\n",
    "         'director':'克里斯多福·諾蘭',  #導演\n",
    "         'writer':'克里斯多福·諾蘭',    #編劇\n",
    "         'actors':['約翰·大衛·華盛頓', '羅伯·派汀森', '伊莉莎白·戴比基'],  #演員\n",
    "        }\n",
    "\n",
    "movie"
   ]
  },
  {
   "cell_type": "markdown",
   "metadata": {},
   "source": [
    "### 【任務】如何從字典中新增或刪除元素\n",
    "\n",
    "新增元素時，新增一組鍵/值的組合即可，語法如下：\n",
    "\n",
    "```python\n",
    "字典名稱['新的鍵']=值\n",
    "```"
   ]
  },
  {
   "cell_type": "code",
   "execution_count": 17,
   "metadata": {},
   "outputs": [],
   "source": [
    "groceries['juice']=1000"
   ]
  },
  {
   "cell_type": "markdown",
   "metadata": {},
   "source": [
    "在字典內多了 juice 元素。"
   ]
  },
  {
   "cell_type": "code",
   "execution_count": 18,
   "metadata": {},
   "outputs": [
    {
     "data": {
      "text/plain": [
       "{'milk': 960, 'apple': 3, 'bread': 10, 'juice': 1000}"
      ]
     },
     "execution_count": 18,
     "metadata": {},
     "output_type": "execute_result"
    }
   ],
   "source": [
    "groceries"
   ]
  },
  {
   "cell_type": "markdown",
   "metadata": {},
   "source": [
    "欲刪除元素時，透過呼叫 `pop()` 函式，傳入要刪除元素的鍵。"
   ]
  },
  {
   "cell_type": "code",
   "execution_count": 19,
   "metadata": {},
   "outputs": [
    {
     "data": {
      "text/plain": [
       "3"
      ]
     },
     "execution_count": 19,
     "metadata": {},
     "output_type": "execute_result"
    }
   ],
   "source": [
    "groceries.pop('apple')"
   ]
  },
  {
   "cell_type": "markdown",
   "metadata": {},
   "source": [
    "已將 apple 元素從字典中刪除。"
   ]
  },
  {
   "cell_type": "code",
   "execution_count": 20,
   "metadata": {},
   "outputs": [
    {
     "data": {
      "text/plain": [
       "{'milk': 960, 'bread': 10, 'juice': 1000}"
      ]
     },
     "execution_count": 20,
     "metadata": {},
     "output_type": "execute_result"
    }
   ],
   "source": [
    "groceries"
   ]
  },
  {
   "cell_type": "markdown",
   "metadata": {},
   "source": [
    "### 【試一試】如果字典的鍵(key)重複會發生什麼事\n",
    "\n",
    "1. Python會跳出錯誤\n",
    "2. 會有兩個鍵相同的元素\n",
    "3. 什麼事都不會發生\n",
    "4. 後面的值會取代前一個值"
   ]
  },
  {
   "cell_type": "code",
   "execution_count": 21,
   "metadata": {},
   "outputs": [],
   "source": [
    "# 請寫下你的答案\n"
   ]
  },
  {
   "cell_type": "markdown",
   "metadata": {},
   "source": [
    "### 【任務】想要取出字典中的鍵(key)與值(value)該怎麼做\n",
    "\n",
    "字典是可迭代的，但由於字典元素包含了鍵與值，所以要迭代取出所有鍵與值的方式略有不同。先使用 `items()` 函式取後字典的視圖(view)，再逐筆印出各個鍵與值。"
   ]
  },
  {
   "cell_type": "code",
   "execution_count": 22,
   "metadata": {},
   "outputs": [
    {
     "name": "stdout",
     "output_type": "stream",
     "text": [
      "milk 960\n",
      "bread 10\n",
      "juice 1000\n"
     ]
    }
   ],
   "source": [
    "for keys, values in groceries.items():\n",
    "    print(keys, values)"
   ]
  },
  {
   "cell_type": "markdown",
   "metadata": {},
   "source": [
    "若想要知道字典中所有的鍵或所有的值，可以透過 `keys()` 與 `values()` 函式。"
   ]
  },
  {
   "cell_type": "code",
   "execution_count": 23,
   "metadata": {},
   "outputs": [
    {
     "data": {
      "text/plain": [
       "dict_keys(['milk', 'bread', 'juice'])"
      ]
     },
     "execution_count": 23,
     "metadata": {},
     "output_type": "execute_result"
    }
   ],
   "source": [
    "groceries.keys()"
   ]
  },
  {
   "cell_type": "code",
   "execution_count": 24,
   "metadata": {},
   "outputs": [
    {
     "data": {
      "text/plain": [
       "dict_values([960, 10, 1000])"
      ]
     },
     "execution_count": 24,
     "metadata": {},
     "output_type": "execute_result"
    }
   ],
   "source": [
    "groceries.values()"
   ]
  },
  {
   "cell_type": "markdown",
   "metadata": {},
   "source": [
    "### 【挑戰】用字典來儲存與計算死亡五小的身高\n",
    "\n",
    "NBA休士頓火箭隊在比賽中喜歡擺出先發死亡五小陣容來跟對手比快速輪轉及三分球。死亡五小的身高分別為：190.5, 195.58, 198.12, 200.66, 195.58公分。\n",
    "\n",
    "挑戰內容：\n",
    "- 死亡五小的名字與身高已經用一個字典儲存，請先取出字典中的值(提示：`values()`)。\n",
    "- 用 for 迴圈迭代一一取出字典中的值，即為身高。\n",
    "- 計算身高的平均值(提示：使用之前學過的 `sum()` 及 `len()` 函式，可以計算出總和與元素數目)。\n",
    "\n",
    "問題：請用Python程式計算死亡五小陣容的平均身高"
   ]
  },
  {
   "cell_type": "code",
   "execution_count": 25,
   "metadata": {},
   "outputs": [
    {
     "name": "stdout",
     "output_type": "stream",
     "text": [
      "{'龜龜': 190.5, '大鬍子': 195.58, '塔克': 195.58, 'Covington': 200.66, '豪斯': 198.12}\n"
     ]
    }
   ],
   "source": [
    "# 建立一個有4組key-value的字典\n",
    "# 在這裡key是球員名稱，value是身高\n",
    "Hampton5 = {'龜龜':190.5, '大鬍子':195.58, '塔克':195.58, 'Covington':200.66}\n",
    "# 加入第5個球員\n",
    "Hampton5['豪斯']=198.12\n",
    "\n",
    "print(Hampton5)"
   ]
  },
  {
   "cell_type": "code",
   "execution_count": 26,
   "metadata": {},
   "outputs": [],
   "source": [
    "# 請在下一行開始輸入你的程式碼\n"
   ]
  },
  {
   "cell_type": "markdown",
   "metadata": {},
   "source": [
    "### <span style=\"color:blue\">【複習】我們已經學過3種常用的容器型別，還記得嗎？</span>\n",
    "\n",
    "Python各種容器型別有其相似與不同之處，在操作和使用上也是，下表列出已經學過的串列、元組、字典等容器，同學們可以比較與複習。\n",
    "\n",
    "|容器型別|語法範例|括號|迭代|是否可變(mutable)|\n",
    "|---|---|---|---|---|\n",
    "|串列(List)|a=[1, 2, 3]|中括號|可迭代|可變|\n",
    "|元組(Tuple)|a=(1, 2, 3)|小括號|可迭代|<font color='red'>不可變</font>(immutable)|\n",
    "|字典(Dict)|a={key1:value1, key2:value2}|大括號|可迭代|可變|"
   ]
  },
  {
   "cell_type": "markdown",
   "metadata": {},
   "source": [
    "Python跟很多程式語言一樣，均有內建的陣列(Array)型別。不過在Python社群和AI程式設計領域中，更強大與更受歡迎的是 NumPy 陣列，接下來我們就來初步認識 NumPy 套件。\n",
    "\n",
    "<img width=150 src=\"https://upload.wikimedia.org/wikipedia/commons/thumb/1/1a/NumPy_logo.svg/200px-NumPy_logo.svg.png\"></img>\n",
    "\n",
    "### 【】初探NumPy陣列\n",
    "\n"
   ]
  },
  {
   "cell_type": "code",
   "execution_count": 28,
   "metadata": {},
   "outputs": [
    {
     "name": "stdout",
     "output_type": "stream",
     "text": [
      "Object `array()` not found.\n"
     ]
    }
   ],
   "source": [
    "?array()"
   ]
  },
  {
   "cell_type": "markdown",
   "metadata": {},
   "source": [
    "### 【】四則運算"
   ]
  },
  {
   "cell_type": "code",
   "execution_count": null,
   "metadata": {},
   "outputs": [],
   "source": []
  },
  {
   "cell_type": "markdown",
   "metadata": {},
   "source": [
    "### 【】軸與維度"
   ]
  },
  {
   "cell_type": "code",
   "execution_count": null,
   "metadata": {},
   "outputs": [],
   "source": []
  },
  {
   "cell_type": "markdown",
   "metadata": {},
   "source": [
    "### 【】廣播"
   ]
  },
  {
   "cell_type": "code",
   "execution_count": null,
   "metadata": {},
   "outputs": [],
   "source": []
  },
  {
   "cell_type": "markdown",
   "metadata": {},
   "source": [
    "### 【】點積"
   ]
  },
  {
   "cell_type": "markdown",
   "metadata": {},
   "source": []
  },
  {
   "cell_type": "markdown",
   "metadata": {},
   "source": [
    "### <span style=\"color:blue\">【延伸閱讀】</span>"
   ]
  },
  {
   "cell_type": "code",
   "execution_count": null,
   "metadata": {},
   "outputs": [],
   "source": []
  }
 ],
 "metadata": {
  "kernelspec": {
   "display_name": "Python 3",
   "language": "python",
   "name": "python3"
  },
  "language_info": {
   "codemirror_mode": {
    "name": "ipython",
    "version": 3
   },
   "file_extension": ".py",
   "mimetype": "text/x-python",
   "name": "python",
   "nbconvert_exporter": "python",
   "pygments_lexer": "ipython3",
   "version": "3.7.4"
  }
 },
 "nbformat": 4,
 "nbformat_minor": 4
}
