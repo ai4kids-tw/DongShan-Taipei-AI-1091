{
 "cells": [
  {
   "cell_type": "markdown",
   "metadata": {},
   "source": [
    "## 【作業1】經過運算後，下列程式的輸出為何？\n",
    "\n",
    "```python\n",
    "a = []\n",
    "b = []\n",
    "\n",
    "a.append(0)\n",
    "b.append(0)\n",
    "\n",
    "for i in range(1, 101):\n",
    "    b.append(i)\n",
    "    \n",
    "for j in range(1, 100):\n",
    "    a.append(b[j] + a[j-1])\n",
    "\n",
    "a[50]-a[30]\n",
    "```\n",
    "\n",
    "(A) 1275\n",
    "(B) 20\n",
    "(C) 1000\n",
    "(D) 810\n",
    "\n",
    "這題是APCS的考古題，僅將程式改寫為Python版本。\n",
    "\n",
    "由於這題是觀念題，不要直接執行程式，請用理解的方式來作答。"
   ]
  },
  {
   "cell_type": "code",
   "execution_count": null,
   "metadata": {},
   "outputs": [],
   "source": []
  },
  {
   "cell_type": "markdown",
   "metadata": {},
   "source": [
    "### 【作業2】費式數列\n",
    "\n",
    "公元1150年印度數學家Gopala和金月在研究箱子包裝物件長寬剛好為1和2的可行方法數目時，首先描述這個數列。在西方，最先研究這個數列的人是比薩的李奧納多（義大利人斐波那契Leonardo Fibonacci），他描述兔子生長的數目時用上了這數列:\n",
    "\n",
    "兔子對的數量就是費氏數列\n",
    "- 第一個月初有一對剛誕生的兔子\n",
    "- 第二個月之後（第三個月初）牠們可以生育\n",
    "- 每月每對可生育的兔子會誕生下一對新兔子\n",
    "- 兔子永不死去\n",
    "\n",
    "假設在n月有兔子總共a對，n+1月總共有b對。在n+2月必定總共有a+b對：因為在n+2月的時候，前一月（n+1月）的b對兔子可以存留至第n+2月（在當月屬於新誕生的兔子尚不能生育）。而新生育出的兔子對數等於所有在n月就已存在的a對。\n",
    "\n",
    "在數學上，費氏數列是以遞迴的方法來定義：\n",
    "\n",
    "$F_{0}=0$\n",
    "\n",
    "$F_{1}=1$\n",
    "\n",
    "$F_{n}=F_{n-1}+F_{n-2}（n \\geq 2）$\n",
    "\n",
    "#### 問題\n",
    "\n",
    "問題1. 請用Python及遞迴寫出費式數列函式\n",
    "\n",
    "問題2. 請列出費氏數列的前10個數字 (從0開始)\n",
    "\n",
    "問題3. 根據費氏公式，請問第12個月的時候，兔子有幾隻\n",
    "\n",
    "_資料來源：維基百科_"
   ]
  },
  {
   "cell_type": "code",
   "execution_count": 1,
   "metadata": {},
   "outputs": [],
   "source": [
    "# 問題1. 請用Python及遞迴寫出費式數列函式\n",
    "# 請在下一行開始輸入你的程式碼\n"
   ]
  },
  {
   "cell_type": "code",
   "execution_count": 2,
   "metadata": {},
   "outputs": [],
   "source": [
    "# 問題2. 請列出費氏數列的前10個數字 (從0開始)\n",
    "# 請在下一行開始輸入你的程式碼\n"
   ]
  },
  {
   "cell_type": "code",
   "execution_count": 3,
   "metadata": {},
   "outputs": [],
   "source": [
    "# 問題3. 根據費氏公式，請問第12個月的時候，兔子有幾隻\n",
    "# 請在下一行開始輸入你的程式碼\n"
   ]
  },
  {
   "cell_type": "code",
   "execution_count": null,
   "metadata": {},
   "outputs": [],
   "source": []
  }
 ],
 "metadata": {
  "kernelspec": {
   "display_name": "Python 3",
   "language": "python",
   "name": "python3"
  },
  "language_info": {
   "codemirror_mode": {
    "name": "ipython",
    "version": 3
   },
   "file_extension": ".py",
   "mimetype": "text/x-python",
   "name": "python",
   "nbconvert_exporter": "python",
   "pygments_lexer": "ipython3",
   "version": "3.7.4"
  }
 },
 "nbformat": 4,
 "nbformat_minor": 4
}
